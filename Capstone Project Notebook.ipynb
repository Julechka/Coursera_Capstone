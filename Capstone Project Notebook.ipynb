{
    "cells": [
        {
            "cell_type": "markdown",
            "metadata": {
                "collapsed": true
            },
            "source": "# Capstone Project: Exploring boroughs of Oslo"
        },
        {
            "cell_type": "markdown",
            "metadata": {},
            "source": "## Table of contents\n<div class=\"alert alert-block alert-info\" style=\"margin-top: 20px\">\n\n<font size = 3>\n\n<a href=\"#introduction\"> Introduction</a>\n\n<a href=\"methodology_and_data\"> Methodology and Data</a>\n\n<a href=\"results\"> Results</a>\n\n<a href=\"discussion\"> Discussion</a>  \n    \n<a href=\"conclusion\"> Conclusion</a>\n    \n<a href=\"references\"> References</a>\n\n<a href=\"acknowledgments\"> Acknowledgments</a>\n    \n<a href=\"appendix\">Appendix</a>\n</font>\n</div>"
        },
        {
            "cell_type": "markdown",
            "metadata": {},
            "source": "## Introduction"
        },
        {
            "cell_type": "markdown",
            "metadata": {},
            "source": "I would like to investigate the possible solution for finding the optimal borough in Oslo. Searching for a suitable place to live is not easy. Not only price and quality of housing is taken into account, but also neighbourhood. Very popular and wide-used resources such as finn.no make it easy to search for housing based on many different parameters, such as area, price, year of building, energy use and borough. It's possible to use the address and then google maps for looking into the surroundings.\n\nHowever, it's not enough for solving the problem of searching for the neighbourhood, which suits the personal requirements. The project is aiming to help solve this challenge."
        },
        {
            "cell_type": "markdown",
            "metadata": {},
            "source": "## Methodology and Data"
        },
        {
            "cell_type": "markdown",
            "metadata": {},
            "source": "For solving the problem it will be necessary to use several data sources. Data wrangling will include pre-processing, dealing with missing values and data formatting. It's planned to use following data sources:\n1. Wikipedia for making the list of the boroughs\n2. Geocoder for searching their coordinates and \n3. Foursquare location data for finding the venues and their ratings.\n\nExploratory data analysis (EDA) will be used to analyze data in order to summarize main characteristics of the data, gain better understanding of the data set, uncover relationships between different variables, and extract important variables for the problem we're trying to solve. Working Dataframe planned to be created using Python and several Data Analysis Libraries. Visualization of data will be done using the Folium and maps with markers. k-Means Clustering will be used for predicting categorical classed labels. \n\nThen the results will be analyzed and conclusion made."
        },
        {
            "cell_type": "markdown",
            "metadata": {},
            "source": "## Results"
        },
        {
            "cell_type": "markdown",
            "metadata": {},
            "source": "## Discussion"
        },
        {
            "cell_type": "markdown",
            "metadata": {},
            "source": "## Conclusion"
        },
        {
            "cell_type": "markdown",
            "metadata": {},
            "source": "## References"
        },
        {
            "cell_type": "markdown",
            "metadata": {},
            "source": "## Acknowledgments"
        },
        {
            "cell_type": "markdown",
            "metadata": {},
            "source": "## Appendix"
        },
        {
            "cell_type": "code",
            "execution_count": null,
            "metadata": {},
            "outputs": [],
            "source": ""
        }
    ],
    "metadata": {
        "kernelspec": {
            "display_name": "Python 3.6",
            "language": "python",
            "name": "python3"
        },
        "language_info": {
            "codemirror_mode": {
                "name": "ipython",
                "version": 3
            },
            "file_extension": ".py",
            "mimetype": "text/x-python",
            "name": "python",
            "nbconvert_exporter": "python",
            "pygments_lexer": "ipython3",
            "version": "3.6.9"
        }
    },
    "nbformat": 4,
    "nbformat_minor": 1
}